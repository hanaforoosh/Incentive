{
 "cells": [
  {
   "cell_type": "code",
   "execution_count": 18,
   "metadata": {},
   "outputs": [],
   "source": [
    "# Simplified version\n",
    "from numpy import poly1d\n",
    "from math import factorial\n",
    "from operator import mul\n",
    "from fractions import Fraction\n",
    "from functools import reduce\n",
    "\n",
    "def nCk(n,k): \n",
    "    return int( reduce(mul, (Fraction(n-i, i+1) for i in range(k)), 1) )\n",
    "\n",
    "def teta(gamma,k,c_bar):\n",
    "    coeffs = [1]\n",
    "    for i in range(1,c_bar+1):\n",
    "        coeff = 1/factorial(i)\n",
    "        coeffs.append(coeff)\n",
    "    f = poly1d(coeffs[::-1])\n",
    "    f = f ** gamma\n",
    "    res = f[k]*factorial(k)\n",
    "    return res\n",
    "\n",
    "def N(m,gamma,n,k,c_bar):\n",
    "    S = nCk(m,gamma)\n",
    "    T = nCk(n,k)\n",
    "    Teta = teta(gamma,k,c_bar)\n",
    "    return S*T*Teta"
   ]
  },
  {
   "cell_type": "code",
   "execution_count": null,
   "metadata": {},
   "outputs": [],
   "source": [
    "# Original version\n",
    "from numpy import poly1d\n",
    "from math import factorial\n",
    "from operator import mul\n",
    "from fractions import Fraction\n",
    "from functools import reduce\n",
    "\n",
    "def nCk(n,k): \n",
    "    return int( reduce(mul, (Fraction(n-i, i+1) for i in range(k)), 1) )\n",
    "\n",
    "def teta(gamma,k,C):\n",
    "    funcs =[]\n",
    "    for c in C:\n",
    "        coeffs = [1]\n",
    "        for i in range(1,c+1):\n",
    "            coeff = 1/factorial(i)\n",
    "            coeffs.append(coeff)\n",
    "        f = poly1d(coeffs[::-1])\n",
    "        funcs.append(f)\n",
    "    f = reduce(lambda a,b:a*b,funcs)\n",
    "    res = f[k]*factorial(k)\n",
    "    return res\n",
    "\n",
    "def N(m,gamma,n,k,C:list):\n",
    "    S = nCk(m,gamma)\n",
    "    T = nCk(n,k)\n",
    "    Teta = teta(gamma,k,C)\n",
    "    return S*T*Teta"
   ]
  },
  {
   "cell_type": "code",
   "execution_count": null,
   "metadata": {},
   "outputs": [],
   "source": [
    "res = teta(5,2,4)\n",
    "print(res)"
   ]
  },
  {
   "cell_type": "code",
   "execution_count": null,
   "metadata": {},
   "outputs": [],
   "source": [
    "print(poly1d(f))"
   ]
  },
  {
   "cell_type": "code",
   "execution_count": null,
   "metadata": {},
   "outputs": [],
   "source": [
    "f[1]"
   ]
  }
 ],
 "metadata": {
  "kernelspec": {
   "display_name": "Python 3",
   "language": "python",
   "name": "python3"
  },
  "language_info": {
   "codemirror_mode": {
    "name": "ipython",
    "version": 3
   },
   "file_extension": ".py",
   "mimetype": "text/x-python",
   "name": "python",
   "nbconvert_exporter": "python",
   "pygments_lexer": "ipython3",
   "version": "3.7.6"
  }
 },
 "nbformat": 4,
 "nbformat_minor": 4
}
