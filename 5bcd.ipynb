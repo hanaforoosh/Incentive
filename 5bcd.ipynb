{
 "cells": [
  {
   "cell_type": "code",
   "execution_count": null,
   "metadata": {},
   "outputs": [],
   "source": [
    "# Original version\n",
    "\n",
    "from numpy import poly1d\n",
    "from math import factorial\n",
    "from operator import mul\n",
    "from fractions import Fraction\n",
    "from functools import reduce\n",
    "\n",
    "def nCk(n,k): \n",
    "    return int( reduce(mul, (Fraction(n-i, i+1) for i in range(k)), 1) )\n",
    "\n",
    "def teta(gamma,k,C):\n",
    "    funcs =[]\n",
    "    for c in C:\n",
    "        coeffs = [1]\n",
    "        for i in range(1,c+1):\n",
    "            coeff = 1/factorial(i)\n",
    "            coeffs.append(coeff)\n",
    "        f = poly1d(coeffs[::-1])\n",
    "        funcs.append(f)\n",
    "    f = reduce(lambda a,b:a*b,funcs)\n",
    "    res = f[k]*factorial(k)\n",
    "    return res\n",
    "\n",
    "def N(m,gamma,n,k,C:list):\n",
    "    S = nCk(m,gamma)\n",
    "    T = nCk(n,k)\n",
    "    Teta = teta(gamma,k,C)\n",
    "    return S*T*Teta"
   ]
  },
  {
   "cell_type": "code",
   "execution_count": 207,
   "metadata": {},
   "outputs": [],
   "source": [
    "# Simplified version\n",
    "\n",
    "from numpy import poly1d\n",
    "from math import factorial\n",
    "from operator import mul\n",
    "from fractions import Fraction\n",
    "from functools import reduce\n",
    "\n",
    "def nCk(n,k): \n",
    "    return int( reduce(mul, (Fraction(n-i, i+1) for i in range(k)), 1) )\n",
    "\n",
    "def teta(gamma,k,c_bar):\n",
    "    coeffs = [1]\n",
    "    for i in range(1,c_bar+1):\n",
    "        coeff = 1/factorial(i)\n",
    "        coeffs.append(coeff)\n",
    "    f = poly1d(coeffs[::-1])\n",
    "    f = f ** gamma\n",
    "    #res = f[k]*factorial(k)\n",
    "    res = f[k]\n",
    "    return res\n",
    "\n",
    "def N(m,gamma,n,k,c_bar):\n",
    "    S = nCk(m,gamma)\n",
    "    T = nCk(n,k)\n",
    "    Teta = teta(gamma,k,c_bar)\n",
    "    return S*T*Teta"
   ]
  },
  {
   "cell_type": "code",
   "execution_count": 133,
   "metadata": {},
   "outputs": [],
   "source": [
    "def K_opt(m,gamma,n,c_bar):\n",
    "    Ns = []\n",
    "    for k in range(n+1):\n",
    "        _N = N(m,gamma,n,k,c_bar)\n",
    "        Ns.append(_N)\n",
    "    maximum = max(Ns)\n",
    "    maxs =[i for i, j in enumerate(Ns) if j == maximum]\n",
    "    return maxs[0]\n",
    "def N_max(m,gamma,n,c_bar):\n",
    "    k = K_opt(m,gamma,n,c_bar)\n",
    "    return N(m,gamma,n,k,c_bar)"
   ]
  },
  {
   "cell_type": "markdown",
   "metadata": {},
   "source": [
    "# 2"
   ]
  },
  {
   "cell_type": "code",
   "execution_count": 183,
   "metadata": {},
   "outputs": [],
   "source": [
    "k = [i for i in range(26)]\n",
    "N_blue =[N(10,10,25,_k,4) for _k in k]\n",
    "N_red  =[N(9,9,25,_k,4) for _k in k]\n",
    "N_green=[N(8,8,25,_k,4) for _k in k]\n",
    "N_black=[N(7,7,25,_k,4) for _k in k]"
   ]
  },
  {
   "cell_type": "code",
   "execution_count": 190,
   "metadata": {},
   "outputs": [
    {
     "data": {
      "image/png": "[encoded data removed]",
      "text/plain": [
       "<Figure size 432x288 with 1 Axes>"
      ]
     },
     "metadata": {
      "needs_background": "light"
     },
     "output_type": "display_data"
    }
   ],
   "source": [
    "plt.ylabel('N')\n",
    "plt.xlabel('k')\n",
    "plt.plot(k, N_blue,'bx-',k,N_red,'rd-.',k, N_green,'g*-',k,N_black,'k.-')\n",
    "plt.show()"
   ]
  },
  {
   "cell_type": "markdown",
   "metadata": {},
   "source": [
    "# 5"
   ]
  },
  {
   "cell_type": "markdown",
   "metadata": {},
   "source": [
    "## a & b"
   ]
  },
  {
   "cell_type": "code",
   "execution_count": 216,
   "metadata": {},
   "outputs": [],
   "source": [
    "m=gamma=10\n",
    "n = 20\n",
    "c = [i for i in range(51)]\n",
    "\n",
    "\n",
    "k_opt = [K_opt(m,gamma,n,c_bar) for c_bar in c ]\n",
    "n_max = [N_max(m,gamma,n,c_bar) for c_bar in c ]"
   ]
  },
  {
   "cell_type": "code",
   "execution_count": 217,
   "metadata": {},
   "outputs": [
    {
     "data": {
      "image/png": "[encoded data removed]",
      "text/plain": [
       "<Figure size 432x288 with 1 Axes>"
      ]
     },
     "metadata": {
      "needs_background": "light"
     },
     "output_type": "display_data"
    }
   ],
   "source": [
    "import matplotlib.pyplot as plt\n",
    "\n",
    "plt.ylabel('The Optimal K')\n",
    "plt.xlabel('c')\n",
    "plt.plot(c, k_opt,'r.-')\n",
    "plt.show()"
   ]
  },
  {
   "cell_type": "code",
   "execution_count": 218,
   "metadata": {},
   "outputs": [
    {
     "data": {
      "image/png": "[encoded data removed]",
      "text/plain": [
       "<Figure size 432x288 with 1 Axes>"
      ]
     },
     "metadata": {
      "needs_background": "light"
     },
     "output_type": "display_data"
    }
   ],
   "source": [
    "import matplotlib.pyplot as plt\n",
    "\n",
    "plt.ylabel('The Maximum N')\n",
    "plt.xlabel('c')\n",
    "plt.plot(c, n_max,'b.-')\n",
    "plt.show()"
   ]
  },
  {
   "cell_type": "markdown",
   "metadata": {},
   "source": [
    "## c & d"
   ]
  },
  {
   "cell_type": "code",
   "execution_count": 219,
   "metadata": {},
   "outputs": [],
   "source": [
    "gamma = [i for i in range(51)]\n",
    "c = 4\n",
    "\n",
    "k_opt = [K_opt(g,g,2*g,c) for g in gamma ]\n",
    "n_max = [N_max(g,g,2*g,c) for g in gamma ]"
   ]
  },
  {
   "cell_type": "code",
   "execution_count": 220,
   "metadata": {},
   "outputs": [
    {
     "data": {
      "image/png": "[encoded data removed]",
      "text/plain": [
       "<Figure size 432x288 with 1 Axes>"
      ]
     },
     "metadata": {
      "needs_background": "light"
     },
     "output_type": "display_data"
    }
   ],
   "source": [
    "import matplotlib.pyplot as plt\n",
    "plt.ylabel('The Optimal K')\n",
    "plt.xlabel('γ')\n",
    "plt.plot(gamma, k_opt,'r.-')\n",
    "plt.show()"
   ]
  },
  {
   "cell_type": "code",
   "execution_count": 221,
   "metadata": {},
   "outputs": [
    {
     "data": {
      "image/png": "[encoded data removed]",
      "text/plain": [
       "<Figure size 432x288 with 1 Axes>"
      ]
     },
     "metadata": {
      "needs_background": "light"
     },
     "output_type": "display_data"
    }
   ],
   "source": [
    "import matplotlib.pyplot as plt\n",
    "\n",
    "plt.ylabel('The Maximum N')\n",
    "plt.xlabel('γ')\n",
    "plt.plot(gamma, n_max,'b.-')\n",
    "plt.show()"
   ]
  }
 ],
 "metadata": {
  "kernelspec": {
   "display_name": "Python 3",
   "language": "python",
   "name": "python3"
  },
  "language_info": {
   "codemirror_mode": {
    "name": "ipython",
    "version": 3
   },
   "file_extension": ".py",
   "mimetype": "text/x-python",
   "name": "python",
   "nbconvert_exporter": "python",
   "pygments_lexer": "ipython3",
   "version": "3.7.6"
  }
 },
 "nbformat": 4,
 "nbformat_minor": 4
}
