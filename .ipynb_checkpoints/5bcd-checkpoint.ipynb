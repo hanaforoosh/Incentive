{
 "cells": [
  {
   "cell_type": "code",
   "execution_count": 94,
   "metadata": {},
   "outputs": [],
   "source": [
    "# Simplified version\n",
    "from numpy import poly1d\n",
    "from math import factorial\n",
    "\n",
    "def teta(gamma,k,c_bar):\n",
    "    coeffs = [1]\n",
    "    for i in range(1,c_bar+1):\n",
    "        coeff = 1/factorial(i)\n",
    "        coeffs.append(coeff)\n",
    "    f = poly1d(coeffs[::-1])\n",
    "    f = f ** gamma\n",
    "    res = f[k]*factorial(k)\n",
    "    return res"
   ]
  },
  {
   "cell_type": "code",
   "execution_count": 96,
   "metadata": {},
   "outputs": [],
   "source": [
    "# Original version\n",
    "from numpy import poly1d\n",
    "from math import factorial\n",
    "from functools import reduce\n",
    "def teta(gamma,k,C):\n",
    "    funcs =[]\n",
    "    for c in C:\n",
    "        coeffs = [1]\n",
    "        for i in range(1,c+1):\n",
    "            coeff = 1/factorial(i)\n",
    "            coeffs.append(coeff)\n",
    "        f = poly1d(coeffs[::-1])\n",
    "        funcs.append(f)\n",
    "    f = reduce(lambda a,b:a*b,funcs)\n",
    "    res = f[k]*factorial(k)\n",
    "    return res"
   ]
  },
  {
   "cell_type": "code",
   "execution_count": 97,
   "metadata": {},
   "outputs": [
    {
     "name": "stdout",
     "output_type": "stream",
     "text": [
      "25.0\n"
     ]
    }
   ],
   "source": [
    "res = teta(5,2,[4,4,4,4,4])\n",
    "print(res)"
   ]
  },
  {
   "cell_type": "code",
   "execution_count": 95,
   "metadata": {},
   "outputs": [
    {
     "name": "stdout",
     "output_type": "stream",
     "text": [
      "25.0\n"
     ]
    }
   ],
   "source": [
    "res = teta(5,2,4)\n",
    "print(res)"
   ]
  },
  {
   "cell_type": "code",
   "execution_count": 66,
   "metadata": {},
   "outputs": [
    {
     "name": "stdout",
     "output_type": "stream",
     "text": [
      "         6          5          4         3     2\n",
      "0.02778 x + 0.1667 x + 0.5833 x + 1.333 x + 2 x + 2 x + 1\n"
     ]
    }
   ],
   "source": [
    "print(poly1d(f))"
   ]
  },
  {
   "cell_type": "code",
   "execution_count": 67,
   "metadata": {},
   "outputs": [
    {
     "data": {
      "text/plain": [
       "2.0"
      ]
     },
     "execution_count": 67,
     "metadata": {},
     "output_type": "execute_result"
    }
   ],
   "source": [
    "f[1]"
   ]
  },
  {
   "cell_type": "code",
   "execution_count": null,
   "metadata": {},
   "outputs": [],
   "source": []
  }
 ],
 "metadata": {
  "kernelspec": {
   "display_name": "Python 3",
   "language": "python",
   "name": "python3"
  },
  "language_info": {
   "codemirror_mode": {
    "name": "ipython",
    "version": 3
   },
   "file_extension": ".py",
   "mimetype": "text/x-python",
   "name": "python",
   "nbconvert_exporter": "python",
   "pygments_lexer": "ipython3",
   "version": "3.7.6"
  }
 },
 "nbformat": 4,
 "nbformat_minor": 4
}
